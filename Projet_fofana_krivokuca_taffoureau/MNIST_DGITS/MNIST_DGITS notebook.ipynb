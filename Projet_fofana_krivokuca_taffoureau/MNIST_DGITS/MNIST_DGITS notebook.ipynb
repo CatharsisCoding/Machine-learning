{
  "cells": [
    {
      "cell_type": "code",
      "execution_count": 2,
      "metadata": {
        "id": "FdhA9BdDWr7Y"
      },
      "outputs": [
        {
          "name": "stderr",
          "output_type": "stream",
          "text": [
            "2024-02-26 07:27:37.104668: I tensorflow/core/util/port.cc:113] oneDNN custom operations are on. You may see slightly different numerical results due to floating-point round-off errors from different computation orders. To turn them off, set the environment variable `TF_ENABLE_ONEDNN_OPTS=0`.\n",
            "2024-02-26 07:27:37.417383: E external/local_xla/xla/stream_executor/cuda/cuda_dnn.cc:9261] Unable to register cuDNN factory: Attempting to register factory for plugin cuDNN when one has already been registered\n",
            "2024-02-26 07:27:37.417476: E external/local_xla/xla/stream_executor/cuda/cuda_fft.cc:607] Unable to register cuFFT factory: Attempting to register factory for plugin cuFFT when one has already been registered\n",
            "2024-02-26 07:27:37.458084: E external/local_xla/xla/stream_executor/cuda/cuda_blas.cc:1515] Unable to register cuBLAS factory: Attempting to register factory for plugin cuBLAS when one has already been registered\n",
            "2024-02-26 07:27:37.542922: I tensorflow/core/platform/cpu_feature_guard.cc:182] This TensorFlow binary is optimized to use available CPU instructions in performance-critical operations.\n",
            "To enable the following instructions: AVX2 AVX512F AVX512_VNNI FMA, in other operations, rebuild TensorFlow with the appropriate compiler flags.\n",
            "2024-02-26 07:27:39.041242: W tensorflow/compiler/tf2tensorrt/utils/py_utils.cc:38] TF-TRT Warning: Could not find TensorRT\n"
          ]
        },
        {
          "name": "stdout",
          "output_type": "stream",
          "text": [
            "Downloading data from https://storage.googleapis.com/tensorflow/tf-keras-datasets/mnist.npz\n",
            "11490434/11490434 [==============================] - 74s 6us/step\n"
          ]
        }
      ],
      "source": [
        "# Importation des bibliothèques\n",
        "import numpy as np\n",
        "from keras.layers import Conv2D\n",
        "from keras.layers import Dense\n",
        "from sklearn.model_selection import train_test_split\n",
        "from keras.models import Sequential\n",
        "from keras.datasets import mnist\n",
        "from keras.layers import Flatten\n",
        "import matplotlib.pyplot as plt\n",
        "from keras.layers import MaxPool2D\n",
        "from tensorflow.keras.optimizers import Adam\n",
        "\n",
        "# Définition de la forme d'entrée pour les images\n",
        "input_shape = (28,28,1)\n",
        "\n",
        "# Chargement des données MNIST et division en ensembles d'entraînement, de validation et de test\n",
        "(X_train, y_train), (X_test, y_test) = mnist.load_data()\n",
        "X_train, X_val, y_train, y_val = train_test_split(X_train,y_train,stratify=y_train,test_size=0.08333,random_state=42)"
      ]
    },
    {
      "cell_type": "code",
      "execution_count": 3,
      "metadata": {
        "colab": {
          "base_uri": "https://localhost:8080/"
        },
        "id": "wx4npOKZk-Ag",
        "outputId": "6702f0b6-95e0-461a-a8dd-ff039ec7be86"
      },
      "outputs": [
        {
          "name": "stdout",
          "output_type": "stream",
          "text": [
            "Train data shape: (55000, 28, 28, 1)\n",
            "Val data shape: (5000, 28, 28, 1)\n",
            "Test data shape: (10000, 28, 28, 1)\n"
          ]
        }
      ],
      "source": [
        "# Réorganisation des données pour être compatibles avec le modèle\n",
        "X_train = X_train.reshape(-1,28,28,1)\n",
        "X_val = X_val.reshape(-1,28,28,1)\n",
        "X_test = X_test.reshape(-1,28,28,1)\n",
        "# Affichage des formes des ensembles de données\n",
        "print('Train data shape:', X_train.shape)\n",
        "print('Val data shape:', X_val.shape)\n",
        "print('Test data shape:', X_test.shape)"
      ]
    },
    {
      "cell_type": "code",
      "execution_count": 4,
      "metadata": {
        "colab": {
          "base_uri": "https://localhost:8080/"
        },
        "id": "9F2B-H4PlBMO",
        "outputId": "99122fb2-4f38-4835-d481-ebf75b1549b3"
      },
      "outputs": [
        {
          "name": "stderr",
          "output_type": "stream",
          "text": [
            "2024-02-26 07:29:01.753903: I external/local_xla/xla/stream_executor/cuda/cuda_executor.cc:901] successful NUMA node read from SysFS had negative value (-1), but there must be at least one NUMA node, so returning NUMA node zero. See more at https://github.com/torvalds/linux/blob/v6.0/Documentation/ABI/testing/sysfs-bus-pci#L344-L355\n",
            "2024-02-26 07:29:01.929543: I external/local_xla/xla/stream_executor/cuda/cuda_executor.cc:901] successful NUMA node read from SysFS had negative value (-1), but there must be at least one NUMA node, so returning NUMA node zero. See more at https://github.com/torvalds/linux/blob/v6.0/Documentation/ABI/testing/sysfs-bus-pci#L344-L355\n",
            "2024-02-26 07:29:01.929736: I external/local_xla/xla/stream_executor/cuda/cuda_executor.cc:901] successful NUMA node read from SysFS had negative value (-1), but there must be at least one NUMA node, so returning NUMA node zero. See more at https://github.com/torvalds/linux/blob/v6.0/Documentation/ABI/testing/sysfs-bus-pci#L344-L355\n",
            "2024-02-26 07:29:01.934085: I external/local_xla/xla/stream_executor/cuda/cuda_executor.cc:901] successful NUMA node read from SysFS had negative value (-1), but there must be at least one NUMA node, so returning NUMA node zero. See more at https://github.com/torvalds/linux/blob/v6.0/Documentation/ABI/testing/sysfs-bus-pci#L344-L355\n",
            "2024-02-26 07:29:01.934401: I external/local_xla/xla/stream_executor/cuda/cuda_executor.cc:901] successful NUMA node read from SysFS had negative value (-1), but there must be at least one NUMA node, so returning NUMA node zero. See more at https://github.com/torvalds/linux/blob/v6.0/Documentation/ABI/testing/sysfs-bus-pci#L344-L355\n",
            "2024-02-26 07:29:01.934534: I external/local_xla/xla/stream_executor/cuda/cuda_executor.cc:901] successful NUMA node read from SysFS had negative value (-1), but there must be at least one NUMA node, so returning NUMA node zero. See more at https://github.com/torvalds/linux/blob/v6.0/Documentation/ABI/testing/sysfs-bus-pci#L344-L355\n",
            "2024-02-26 07:29:03.312665: I external/local_xla/xla/stream_executor/cuda/cuda_executor.cc:901] successful NUMA node read from SysFS had negative value (-1), but there must be at least one NUMA node, so returning NUMA node zero. See more at https://github.com/torvalds/linux/blob/v6.0/Documentation/ABI/testing/sysfs-bus-pci#L344-L355\n",
            "2024-02-26 07:29:03.312992: I external/local_xla/xla/stream_executor/cuda/cuda_executor.cc:901] successful NUMA node read from SysFS had negative value (-1), but there must be at least one NUMA node, so returning NUMA node zero. See more at https://github.com/torvalds/linux/blob/v6.0/Documentation/ABI/testing/sysfs-bus-pci#L344-L355\n",
            "2024-02-26 07:29:03.313341: I external/local_xla/xla/stream_executor/cuda/cuda_executor.cc:901] successful NUMA node read from SysFS had negative value (-1), but there must be at least one NUMA node, so returning NUMA node zero. See more at https://github.com/torvalds/linux/blob/v6.0/Documentation/ABI/testing/sysfs-bus-pci#L344-L355\n",
            "2024-02-26 07:29:03.313461: I tensorflow/core/common_runtime/gpu/gpu_device.cc:1929] Created device /job:localhost/replica:0/task:0/device:GPU:0 with 4097 MB memory:  -> device: 0, name: NVIDIA GeForce RTX 3060 Laptop GPU, pci bus id: 0000:01:00.0, compute capability: 8.6\n",
            "WARNING:absl:`lr` is deprecated in Keras optimizer, please use `learning_rate` or use the legacy optimizer, e.g.,tf.keras.optimizers.legacy.Adam.\n"
          ]
        }
      ],
      "source": [
        "# Création du modèle séquentiel\n",
        "classifier = Sequential()\n",
        "# Définition de l'optimiseur Adam\n",
        "optimizer = Adam(lr=0.001)\n",
        "# Ajout d'une couche de convolution avec activation ReLU\n",
        "classifier.add(Conv2D(32,kernel_size=(3,3),input_shape=input_shape,activation='relu'))\n",
        "# Aplatir les données pour les passer à travers les couches\n",
        "classifier.add(Flatten())\n",
        "# Ajout d'une autre couche de convolution avec activation ReLU\n",
        "classifier.add(Dense(32, activation = 'relu'))\n",
        "# ajout d'une couche de sortie en utilisant softmax pour l'activation\n",
        "classifier.add(Dense(10, activation = 'softmax'))"
      ]
    },
    {
      "cell_type": "code",
      "execution_count": 5,
      "metadata": {
        "colab": {
          "base_uri": "https://localhost:8080/"
        },
        "id": "eyoScMVklEKO",
        "outputId": "275e9406-8603-43aa-ae7e-879c84952d8a"
      },
      "outputs": [
        {
          "name": "stdout",
          "output_type": "stream",
          "text": [
            "Model: \"sequential\"\n",
            "_________________________________________________________________\n",
            " Layer (type)                Output Shape              Param #   \n",
            "=================================================================\n",
            " conv2d (Conv2D)             (None, 26, 26, 32)        320       \n",
            "                                                                 \n",
            " flatten (Flatten)           (None, 21632)             0         \n",
            "                                                                 \n",
            " dense (Dense)               (None, 32)                692256    \n",
            "                                                                 \n",
            " dense_1 (Dense)             (None, 10)                330       \n",
            "                                                                 \n",
            "=================================================================\n",
            "Total params: 692906 (2.64 MB)\n",
            "Trainable params: 692906 (2.64 MB)\n",
            "Non-trainable params: 0 (0.00 Byte)\n",
            "_________________________________________________________________\n"
          ]
        }
      ],
      "source": [
        "# Compilation du modèle avec la fonction de perte, l'optimiseur et la métrique d'accuracy\n",
        "classifier.compile(loss = 'sparse_categorical_crossentropy', optimizer=optimizer,metrics = ['accuracy'])\n",
        "classifier.summary()\n",
        "# spécification des données pour l'entrainement\n",
        "epochs = 10\n",
        "batch_size = 64"
      ]
    },
    {
      "cell_type": "code",
      "execution_count": 6,
      "metadata": {
        "colab": {
          "base_uri": "https://localhost:8080/"
        },
        "id": "yl_2y4ynlL0f",
        "outputId": "a20c9f09-d2f5-48cb-c3a2-eedf31d4336b"
      },
      "outputs": [
        {
          "name": "stdout",
          "output_type": "stream",
          "text": [
            "Epoch 1/10\n"
          ]
        },
        {
          "name": "stderr",
          "output_type": "stream",
          "text": [
            "2024-02-26 07:29:06.649872: I external/local_xla/xla/stream_executor/cuda/cuda_dnn.cc:454] Loaded cuDNN version 8904\n",
            "2024-02-26 07:29:08.412189: I external/local_xla/xla/service/service.cc:168] XLA service 0x7fbdd09632b0 initialized for platform CUDA (this does not guarantee that XLA will be used). Devices:\n",
            "2024-02-26 07:29:08.412210: I external/local_xla/xla/service/service.cc:176]   StreamExecutor device (0): NVIDIA GeForce RTX 3060 Laptop GPU, Compute Capability 8.6\n",
            "2024-02-26 07:29:08.422797: I tensorflow/compiler/mlir/tensorflow/utils/dump_mlir_util.cc:269] disabling MLIR crash reproducer, set env var `MLIR_CRASH_REPRODUCER_DIRECTORY` to enable.\n",
            "WARNING: All log messages before absl::InitializeLog() is called are written to STDERR\n",
            "I0000 00:00:1708928948.537601    5484 device_compiler.h:186] Compiled cluster using XLA!  This line is logged at most once for the lifetime of the process.\n"
          ]
        },
        {
          "name": "stdout",
          "output_type": "stream",
          "text": [
            "860/860 [==============================] - 10s 4ms/step - loss: 1.3155 - accuracy: 0.6883 - val_loss: 0.3943 - val_accuracy: 0.9158\n",
            "Epoch 2/10\n",
            "860/860 [==============================] - 3s 4ms/step - loss: 0.2419 - accuracy: 0.9448 - val_loss: 0.1764 - val_accuracy: 0.9540\n",
            "Epoch 3/10\n",
            "860/860 [==============================] - 3s 3ms/step - loss: 0.1162 - accuracy: 0.9700 - val_loss: 0.1521 - val_accuracy: 0.9612\n",
            "Epoch 4/10\n",
            "860/860 [==============================] - 3s 3ms/step - loss: 0.0732 - accuracy: 0.9796 - val_loss: 0.1386 - val_accuracy: 0.9656\n",
            "Epoch 5/10\n",
            "860/860 [==============================] - 2s 3ms/step - loss: 0.0550 - accuracy: 0.9847 - val_loss: 0.1289 - val_accuracy: 0.9682\n",
            "Epoch 6/10\n",
            "860/860 [==============================] - 3s 3ms/step - loss: 0.0378 - accuracy: 0.9887 - val_loss: 0.1353 - val_accuracy: 0.9698\n",
            "Epoch 7/10\n",
            "860/860 [==============================] - 3s 3ms/step - loss: 0.0333 - accuracy: 0.9899 - val_loss: 0.1492 - val_accuracy: 0.9694\n",
            "Epoch 8/10\n",
            "860/860 [==============================] - 2s 3ms/step - loss: 0.0340 - accuracy: 0.9899 - val_loss: 0.1543 - val_accuracy: 0.9702\n",
            "Epoch 9/10\n",
            "860/860 [==============================] - 2s 3ms/step - loss: 0.0295 - accuracy: 0.9914 - val_loss: 0.1725 - val_accuracy: 0.9634\n",
            "Epoch 10/10\n",
            "860/860 [==============================] - 3s 3ms/step - loss: 0.0202 - accuracy: 0.9938 - val_loss: 0.1635 - val_accuracy: 0.9698\n"
          ]
        },
        {
          "data": {
            "text/plain": [
              "<keras.src.callbacks.History at 0x7fbed629e250>"
            ]
          },
          "execution_count": 6,
          "metadata": {},
          "output_type": "execute_result"
        }
      ],
      "source": [
        "#entrainement du modèle\n",
        "classifier.fit(X_train, y_train,epochs=epochs,batch_size=batch_size,validation_data=(X_val, y_val))"
      ]
    },
    {
      "cell_type": "code",
      "execution_count": 7,
      "metadata": {
        "id": "VG8Ni7fLlRoi"
      },
      "outputs": [
        {
          "name": "stdout",
          "output_type": "stream",
          "text": [
            "313/313 [==============================] - 1s 2ms/step - loss: 0.1751 - accuracy: 0.9699\n",
            "final test loss: 0.1751077026128769\n",
            "final accuracy: 0.9699000120162964\n"
          ]
        }
      ],
      "source": [
        "# récupération des résultats et affichage\n",
        "test_loss,accuracy = classifier.evaluate(X_test, y_test)\n",
        "print('final test loss:', test_loss)\n",
        "print('final accuracy:', accuracy)"
      ]
    }
  ],
  "metadata": {
    "colab": {
      "provenance": []
    },
    "kernelspec": {
      "display_name": "Python 3",
      "name": "python3"
    },
    "language_info": {
      "codemirror_mode": {
        "name": "ipython",
        "version": 3
      },
      "file_extension": ".py",
      "mimetype": "text/x-python",
      "name": "python",
      "nbconvert_exporter": "python",
      "pygments_lexer": "ipython3",
      "version": "3.11.8"
    }
  },
  "nbformat": 4,
  "nbformat_minor": 0
}
